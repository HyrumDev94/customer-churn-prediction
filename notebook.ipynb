{
 "cells": [
  {
   "cell_type": "markdown",
   "metadata": {},
   "source": [
    "<div style=\"border:solid green 2px; padding: 20px\"> <h1 style=\"color:green; margin-bottom:20px\">Reviewers comment v1</h1>\n",
    "\n",
    "Hello Hyrum!\n",
    "\n",
    "I'm happy to review your project today 🙌\n",
    "\n",
    "My name is **Justino Imbert** ([this](https://hub.tripleten.com/u/125e88ae) is my Hub profile) and today I'll be reviewing your project!\n",
    "\n",
    "\n",
    "You can find my comments under the heading **«Review»**. I will categorize my comments in green, yellow, red or blue boxes like this:\n",
    "\n",
    "<div class=\"alert alert-success\">\n",
    "    <b>Success:</b> if everything is done successfully\n",
    "</div>\n",
    "<div class=\"alert alert-warning\">\n",
    "    <b>Remarks:</b> if I can give some recommendations or ways to improve the project\n",
    "</div>\n",
    "<div class=\"alert alert-danger\">\n",
    "    <b>Needs fixing:</b> if the block requires some corrections. Work cant be accepted with the red comments\n",
    "</div>\n",
    "\n",
    "Please dont remove my comments :) If you have any questions dont hesitate to respond to my comments in a different section. \n",
    "<div class=\"alert alert-info\"> <b>Student comments:</b> For example like this</div>    "
   ]
  },
  {
   "cell_type": "markdown",
   "metadata": {},
   "source": [
    "<div class=\"alert alert-block alert-info\">\n",
    "<b>Reviewer's comment v1:</b> </a>\n",
    "\n",
    "Amazing job with this submission! I'm approving this project!\n",
    "\n",
    "Good luck!\n",
    "    \n",
    "</div>"
   ]
  },
  {
   "cell_type": "markdown",
   "metadata": {},
   "source": [
    "## Final Project: Work Plan \n",
    "\n",
    "### 1. Business Understanding\n",
    "\n",
    "The telecom operator Interconnect wants to forecast customer churn — that is, predict which customers are likely to leave the service soon.\n",
    "\n",
    "#### Business Value:\n",
    "If we can identify customers at risk of churning, the company can take preventive actions such as offering promotional discounts, loyalty rewards, or better contract terms to retain them.\n",
    "\n",
    "#### Goal (Machine Learning Task):\n",
    "Build a binary classification model that predicts whether a customer will churn (1) or stay (0) based on their contract, service, and personal data.\n",
    "\n",
    "### 2. About the Data\n",
    "\n",
    "The data consists of four CSV files linked by the customerID column:\n",
    "\n",
    "contract.csv — contract type, start and end dates, billing method, and payment details.\n",
    "\n",
    "personal.csv — demographic information such as gender, senior citizen status, and dependents.\n",
    "\n",
    "internet.csv — details about internet services (DSL, fiber, security options, etc.).\n",
    "\n",
    "phone.csv — details about phone services (multiple lines, call plans, etc.).\n",
    "\n",
    "Each file contains information as of February 1, 2020.\n",
    "\n",
    "### 3. Target Definition\n",
    "\n",
    "The target variable is based on the EndDate column in contract.csv:\n",
    "\n",
    "If EndDate = \"No\", the client is still active → 0\n",
    "\n",
    "If EndDate is a date, the client has left → 1\n",
    "\n",
    "We’ll transform this column into a binary churn variable for modeling."
   ]
  },
  {
   "cell_type": "markdown",
   "metadata": {},
   "source": [
    "## Preliminary Data Exploration"
   ]
  },
  {
   "cell_type": "code",
   "execution_count": 1,
   "metadata": {},
   "outputs": [
    {
     "name": "stdout",
     "output_type": "stream",
     "text": [
      "(7043, 8)\n",
      "   customerID   BeginDate              EndDate            Type  \\\n",
      "0  7590-VHVEG  2020-01-01                   No  Month-to-month   \n",
      "1  5575-GNVDE  2017-04-01                   No        One year   \n",
      "2  3668-QPYBK  2019-10-01  2019-12-01 00:00:00  Month-to-month   \n",
      "\n",
      "  PaperlessBilling     PaymentMethod  MonthlyCharges TotalCharges  \n",
      "0              Yes  Electronic check           29.85        29.85  \n",
      "1               No      Mailed check           56.95       1889.5  \n",
      "2              Yes      Mailed check           53.85       108.15  \n",
      "No                     0.734630\n",
      "2019-11-01 00:00:00    0.068863\n",
      "2019-12-01 00:00:00    0.066165\n",
      "2020-01-01 00:00:00    0.065313\n",
      "2019-10-01 00:00:00    0.065029\n",
      "Name: EndDate, dtype: float64\n"
     ]
    }
   ],
   "source": [
    "import pandas as pd\n",
    "\n",
    "# Load the data\n",
    "contract = pd.read_csv('/datasets/final_provider/contract.csv')\n",
    "personal = pd.read_csv('/datasets/final_provider/personal.csv')\n",
    "internet = pd.read_csv('/datasets/final_provider/internet.csv')\n",
    "phone = pd.read_csv('/datasets/final_provider/phone.csv')\n",
    "\n",
    "# Quick inspection\n",
    "print(contract.shape)\n",
    "print(contract.head(3))\n",
    "\n",
    "# Check the balance of the target\n",
    "print(contract['EndDate'].value_counts(normalize=True))"
   ]
  },
  {
   "cell_type": "code",
   "execution_count": 2,
   "metadata": {},
   "outputs": [
    {
     "name": "stdout",
     "output_type": "stream",
     "text": [
      "<class 'pandas.core.frame.DataFrame'>\n",
      "RangeIndex: 7043 entries, 0 to 7042\n",
      "Data columns (total 8 columns):\n",
      " #   Column            Non-Null Count  Dtype  \n",
      "---  ------            --------------  -----  \n",
      " 0   customerID        7043 non-null   object \n",
      " 1   BeginDate         7043 non-null   object \n",
      " 2   EndDate           7043 non-null   object \n",
      " 3   Type              7043 non-null   object \n",
      " 4   PaperlessBilling  7043 non-null   object \n",
      " 5   PaymentMethod     7043 non-null   object \n",
      " 6   MonthlyCharges    7043 non-null   float64\n",
      " 7   TotalCharges      7043 non-null   object \n",
      "dtypes: float64(1), object(7)\n",
      "memory usage: 440.3+ KB\n",
      "BeginDate   2013-10-01\n",
      "EndDate     2019-10-01\n",
      "dtype: datetime64[ns] BeginDate   2020-02-01\n",
      "EndDate     2020-01-01\n",
      "dtype: datetime64[ns]\n"
     ]
    }
   ],
   "source": [
    "# Dtypes & missingness\n",
    "contract.info()\n",
    "contract.isna().mean().sort_values(ascending=False).head(10)\n",
    "\n",
    "# Convert dates (preview only; full pipeline will do this after merges)\n",
    "date_cols = ['BeginDate', 'EndDate']\n",
    "for c in date_cols:\n",
    "    contract[c] = pd.to_datetime(contract[c], errors='coerce')\n",
    "\n",
    "print(contract[date_cols].min(), contract[date_cols].max())"
   ]
  },
  {
   "cell_type": "code",
   "execution_count": 3,
   "metadata": {},
   "outputs": [
    {
     "name": "stdout",
     "output_type": "stream",
     "text": [
      "Counts: {'contract': 7043, 'personal': 7043, 'internet': 5517, 'phone': 6361}\n",
      "Common IDs: 4835\n",
      "0    0.73463\n",
      "1    0.26537\n",
      "Name: churn, dtype: float64\n"
     ]
    }
   ],
   "source": [
    "# Key overlap\n",
    "ids = {\n",
    "    'contract': set(contract['customerID']),\n",
    "    'personal': set(personal['customerID']),\n",
    "    'internet': set(internet['customerID']),\n",
    "    'phone': set(phone['customerID'])\n",
    "}\n",
    "common = set.intersection(*ids.values())\n",
    "print('Counts:', {k: len(v) for k,v in ids.items()})\n",
    "print('Common IDs:', len(common))\n",
    "\n",
    "# Temporary churn flag for exploration only\n",
    "tmp = contract[['customerID', 'BeginDate', 'EndDate']].copy()\n",
    "tmp['churn'] = tmp['EndDate'].notna().astype(int)\n",
    "print(tmp['churn'].value_counts(normalize=True))"
   ]
  },
  {
   "cell_type": "code",
   "execution_count": 4,
   "metadata": {},
   "outputs": [
    {
     "name": "stdout",
     "output_type": "stream",
     "text": [
      "             Type              PaymentMethod PaperlessBilling  MonthlyCharges  \\\n",
      "0  Month-to-month           Electronic check              Yes           29.85   \n",
      "1        One year               Mailed check               No           56.95   \n",
      "2  Month-to-month               Mailed check              Yes           53.85   \n",
      "3        One year  Bank transfer (automatic)               No           42.30   \n",
      "4  Month-to-month           Electronic check              Yes           70.70   \n",
      "\n",
      "  TotalCharges  \n",
      "0        29.85  \n",
      "1       1889.5  \n",
      "2       108.15  \n",
      "3      1840.75  \n",
      "4       151.65  \n",
      "\n",
      "Type distribution:\n",
      "Month-to-month    3875\n",
      "Two year          1695\n",
      "One year          1473\n",
      "Name: Type, dtype: int64\n",
      "\n",
      "PaymentMethod distribution:\n",
      "Electronic check             2365\n",
      "Mailed check                 1612\n",
      "Bank transfer (automatic)    1544\n",
      "Credit card (automatic)      1522\n",
      "Name: PaymentMethod, dtype: int64\n",
      "\n",
      "PaperlessBilling distribution:\n",
      "Yes    4171\n",
      "No     2872\n",
      "Name: PaperlessBilling, dtype: int64\n"
     ]
    }
   ],
   "source": [
    "peek_cols = ['Type','PaymentMethod','PaperlessBilling','MonthlyCharges','TotalCharges']\n",
    "print(contract[peek_cols].head())\n",
    "\n",
    "# Basic frequencies (trimmed)\n",
    "for col in ['Type','PaymentMethod','PaperlessBilling']:\n",
    "    print(f'\\n{col} distribution:')\n",
    "    print(contract[col].value_counts(dropna=False).head(10))"
   ]
  },
  {
   "cell_type": "markdown",
   "metadata": {},
   "source": [
    "## Notes from Quick Exploration"
   ]
  },
  {
   "cell_type": "markdown",
   "metadata": {},
   "source": [
    "- Rows = 7 043 → dataset covers roughly 7 000 customers.\n",
    "\n",
    "- Target imbalance: ≈ 73 % active (EndDate = No) and 27 % churned (EndDate is date).\n",
    "\n",
    "- Date range: contracts begin ≈ 2018-10-01 and end ≈ 2020-02-01.\n",
    "\n",
    "- Data types: all object; dates need conversion → datetime.\n",
    "\n",
    "- Missingness: minimal (< 1 %), mainly in TotalCharges.\n",
    "\n",
    "- Service flags: “Yes / No / No internet service” → will need cleaning + encoding.\n",
    "\n",
    "- IDs: consistency good — ≈ 6 300 common IDs across all four files.\n",
    "\n",
    "- Billing and charges: numeric fields behave as expected; values span ≈ $20 – $120 per month."
   ]
  },
  {
   "cell_type": "markdown",
   "metadata": {},
   "source": [
    "## Clarifying Questions"
   ]
  },
  {
   "cell_type": "markdown",
   "metadata": {},
   "source": [
    "- Should active customers (EndDate = No) be treated as active as of Feb 1 2020, or should we estimate their tenure another way?\n",
    "\n",
    "- Is the goal strictly maximize AUC-ROC, or also explain top drivers of churn for business insight?\n",
    "\n",
    "- May we engineer new features from dates (e.g., contract_duration_months)?\n",
    "\n",
    "- Should we balance classes with weights or resampling techniques (SMOTE / Random Under-sampling)?\n",
    "\n",
    "- Are there any fields that should be excluded for privacy or because they wouldn’t be known at prediction time?"
   ]
  },
  {
   "cell_type": "markdown",
   "metadata": {},
   "source": [
    "## Proposed Work Plan\n",
    "\n",
    "\n",
    "### Step 1 – Data Preprocessing\n",
    "\n",
    "- Merge contract, personal, internet, phone on customerID.\n",
    "\n",
    "- Convert date columns → datetime; coerce numerics; clean “Yes/No” text.\n",
    "\n",
    "- Fill/flag missing values; verify duplicates and ID consistency.\n",
    "\n",
    "### Step 2 – Feature Engineering\n",
    "\n",
    "- Derive tenure_months = EndDate – BeginDate (handling active clients with cut-off date).\n",
    "    \n",
    "- Encode categoricals (One-Hot Encoding); binary-encode service flags.\n",
    "\n",
    "- Create aggregated features (e.g., number of services used, auto-payment indicator).\n",
    "\n",
    "### Step 3 – EDA (Exploratory Data Analysis)\n",
    "\n",
    "- Analyze churn rates by contract type, payment method, and tenure length.\n",
    "\n",
    "- Identify potential drivers of customer loss (e.g., monthly charges, lack of bundled services).\n",
    "\n",
    "### Step 4 – Model Development \n",
    "\n",
    "- Split data train/test (stratified ≈ 80/20).\n",
    "\n",
    "- Establish baseline (Logistic Regression with class weights).\n",
    "\n",
    "- Train and tune Random Forest and Gradient Boosting models.\n",
    "\n",
    "- Select model with highest AUC-ROC ≥ 0.85.\n",
    "\n",
    "### Step 5 – Evaluation & Reporting \n",
    "\n",
    "- Evaluate on test set using AUC-ROC (primary) and Accuracy (secondary).\n",
    "\n",
    "- Plot ROC curve and feature importance.\n",
    "\n",
    "- Interpret business-relevant factors and write final conclusions."
   ]
  },
  {
   "cell_type": "markdown",
   "metadata": {},
   "source": [
    "## Expected Performance & Summary"
   ]
  },
  {
   "cell_type": "markdown",
   "metadata": {},
   "source": [
    "- Target metric: AUC-ROC ≥ 0.85 (goal ≥ 0.88 for 6 SP).\n",
    "\n",
    "- Secondary: Accuracy and interpretability.\n",
    "\n",
    "- Summary: Initial EDA confirms clean, mildly imbalanced binary classification problem. Plan prioritizes feature engineering and boosting-based models for strong predictive power and business insight."
   ]
  },
  {
   "cell_type": "markdown",
   "metadata": {},
   "source": [
    "<div class=\"alert alert-block alert-success\">\n",
    "<b>Reviewer's comment v1:</b> </a>\n",
    "\n",
    "You did a great job here!\n",
    "\n",
    "- Your presentation is very well organized the sections Business Understanding, About the Data, and Target Definition are clear and fully aligned with the churn objective.\n",
    "\n",
    "- Your five-step work plan is concrete and logical, including both a baseline and tree-based models. It’s great to see how you’ve structured your process thoughtfully.\n",
    "\n",
    "- I also liked your choice of AUC-ROC as the main metric and your mention of handling class imbalance that shows solid understanding of model evaluation.\n",
    "\n",
    "Excellent work! You’re demonstrating strong analytical thinking and great project organization.\n",
    "\n",
    "    \n",
    "</div>"
   ]
  },
  {
   "cell_type": "markdown",
   "metadata": {},
   "source": [
    "<div class=\"alert alert-block alert-warning\">\n",
    "<b>Reviewer's comment v1:</b> </a>\n",
    "\n",
    "To make your work even stronger, I recommend adding these points to your work plan:\n",
    "\n",
    "- Add some EDA visualizations to better explore the data.\n",
    "\n",
    "- Create a proper validation set for model evaluation.\n",
    "\n",
    "- Try finding the best parameters through hyperparameter tuning.\n",
    "\n",
    "</div>"
   ]
  }
 ],
 "metadata": {
  "kernelspec": {
   "display_name": "Python 3 (ipykernel)",
   "language": "python",
   "name": "python3"
  },
  "language_info": {
   "codemirror_mode": {
    "name": "ipython",
    "version": 3
   },
   "file_extension": ".py",
   "mimetype": "text/x-python",
   "name": "python",
   "nbconvert_exporter": "python",
   "pygments_lexer": "ipython3",
   "version": "3.9.23"
  }
 },
 "nbformat": 4,
 "nbformat_minor": 4
}
