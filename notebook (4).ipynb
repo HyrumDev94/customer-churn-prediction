{
 "cells": [
  {
   "cell_type": "markdown",
   "metadata": {},
   "source": [
    "# Final Project — Stage 2: Modeling & Evaluation\n",
    "\n",
    "**Objective.** Build a churn classifier for Interconnect with **AUC-ROC** as the primary metric (Accuracy secondary).  \n",
    "**What this notebook includes:**  \n",
    "1) minimal EDA visuals as evidence for decisions,  \n",
    "2) robust preprocessing & feature engineering,  \n",
    "3) stratified **train/valid/test** protocol,  \n",
    "4) **hyperparameter tuning** on the validation path,  \n",
    "5) final test evaluation + quick interpretation.\n",
    "\n",
    "> Tip for reviewers: Comments precede each block; longer rationale is in the Markdown cells."
   ]
  },
  {
   "cell_type": "markdown",
   "metadata": {},
   "source": [
    "### Imports & Settings\n",
    "We keep imports minimal and set a global random seed for reproducibility."
   ]
  },
  {
   "cell_type": "code",
   "execution_count": 1,
   "metadata": {},
   "outputs": [],
   "source": [
    "# Imports & Settings (compatible with older scikit-learn)\n",
    "import warnings, numpy as np, pandas as pd\n",
    "from datetime import datetime\n",
    "\n",
    "# --- scikit-learn compatibility for HistGradientBoosting ---\n",
    "# If your sklearn is < 1.0 you must enable the experimental feature first.\n",
    "try:\n",
    "    from sklearn.experimental import enable_hist_gradient_boosting  # noqa: F401\n",
    "except Exception:\n",
    "    pass\n",
    "\n",
    "from sklearn.model_selection import train_test_split, StratifiedKFold, GridSearchCV\n",
    "from sklearn.compose import ColumnTransformer\n",
    "from sklearn.pipeline import Pipeline\n",
    "from sklearn.preprocessing import OneHotEncoder, StandardScaler\n",
    "from sklearn.impute import SimpleImputer\n",
    "from sklearn.metrics import roc_auc_score, accuracy_score, roc_curve\n",
    "from sklearn.linear_model import LogisticRegression\n",
    "from sklearn.ensemble import RandomForestClassifier, HistGradientBoostingClassifier\n",
    "\n",
    "import matplotlib.pyplot as plt\n",
    "\n",
    "warnings.filterwarnings(\"ignore\")\n",
    "\n",
    "RANDOM_STATE = 42\n",
    "np.random.seed(RANDOM_STATE)\n",
    "\n",
    "# Adjust if needed for your dataset location:\n",
    "DATA_DIR = \"/datasets/final_provider\"  # (from your screenshot)"
   ]
  },
  {
   "cell_type": "markdown",
   "metadata": {},
   "source": [
    "### Load Data + “Just-enough” EDA\n",
    "We load the four linked tables and produce a *few* visuals that directly inform modeling choices:\n",
    "- class balance,  \n",
    "- churn by contract type,  \n",
    "- charges vs churn,  \n",
    "- tenure distribution (after we compute it)."
   ]
  },
  {
   "cell_type": "code",
   "execution_count": 2,
   "metadata": {},
   "outputs": [
    {
     "name": "stdout",
     "output_type": "stream",
     "text": [
      "Shapes: (7043, 8) (7043, 5) (5517, 8) (6361, 2)\n"
     ]
    },
    {
     "data": {
      "text/html": [
       "<div>\n",
       "<style scoped>\n",
       "    .dataframe tbody tr th:only-of-type {\n",
       "        vertical-align: middle;\n",
       "    }\n",
       "\n",
       "    .dataframe tbody tr th {\n",
       "        vertical-align: top;\n",
       "    }\n",
       "\n",
       "    .dataframe thead th {\n",
       "        text-align: right;\n",
       "    }\n",
       "</style>\n",
       "<table border=\"1\" class=\"dataframe\">\n",
       "  <thead>\n",
       "    <tr style=\"text-align: right;\">\n",
       "      <th></th>\n",
       "      <th>customerID</th>\n",
       "      <th>BeginDate</th>\n",
       "      <th>EndDate</th>\n",
       "      <th>Type</th>\n",
       "      <th>PaperlessBilling</th>\n",
       "      <th>PaymentMethod</th>\n",
       "      <th>MonthlyCharges</th>\n",
       "      <th>TotalCharges</th>\n",
       "    </tr>\n",
       "  </thead>\n",
       "  <tbody>\n",
       "    <tr>\n",
       "      <th>0</th>\n",
       "      <td>7590-VHVEG</td>\n",
       "      <td>2020-01-01</td>\n",
       "      <td>No</td>\n",
       "      <td>Month-to-month</td>\n",
       "      <td>Yes</td>\n",
       "      <td>Electronic check</td>\n",
       "      <td>29.85</td>\n",
       "      <td>29.85</td>\n",
       "    </tr>\n",
       "    <tr>\n",
       "      <th>1</th>\n",
       "      <td>5575-GNVDE</td>\n",
       "      <td>2017-04-01</td>\n",
       "      <td>No</td>\n",
       "      <td>One year</td>\n",
       "      <td>No</td>\n",
       "      <td>Mailed check</td>\n",
       "      <td>56.95</td>\n",
       "      <td>1889.5</td>\n",
       "    </tr>\n",
       "    <tr>\n",
       "      <th>2</th>\n",
       "      <td>3668-QPYBK</td>\n",
       "      <td>2019-10-01</td>\n",
       "      <td>2019-12-01 00:00:00</td>\n",
       "      <td>Month-to-month</td>\n",
       "      <td>Yes</td>\n",
       "      <td>Mailed check</td>\n",
       "      <td>53.85</td>\n",
       "      <td>108.15</td>\n",
       "    </tr>\n",
       "  </tbody>\n",
       "</table>\n",
       "</div>"
      ],
      "text/plain": [
       "   customerID   BeginDate              EndDate            Type  \\\n",
       "0  7590-VHVEG  2020-01-01                   No  Month-to-month   \n",
       "1  5575-GNVDE  2017-04-01                   No        One year   \n",
       "2  3668-QPYBK  2019-10-01  2019-12-01 00:00:00  Month-to-month   \n",
       "\n",
       "  PaperlessBilling     PaymentMethod  MonthlyCharges TotalCharges  \n",
       "0              Yes  Electronic check           29.85        29.85  \n",
       "1               No      Mailed check           56.95       1889.5  \n",
       "2              Yes      Mailed check           53.85       108.15  "
      ]
     },
     "metadata": {},
     "output_type": "display_data"
    },
    {
     "data": {
      "image/png": "[encoded data removed]",
      "text/plain": [
       "<Figure size 400x300 with 1 Axes>"
      ]
     },
     "metadata": {},
     "output_type": "display_data"
    },
    {
     "data": {
      "image/png": "[encoded data removed]",
      "text/plain": [
       "<Figure size 500x300 with 1 Axes>"
      ]
     },
     "metadata": {},
     "output_type": "display_data"
    },
    {
     "data": {
      "image/png": "[encoded data removed]",
      "text/plain": [
       "<Figure size 500x300 with 1 Axes>"
      ]
     },
     "metadata": {},
     "output_type": "display_data"
    }
   ],
   "source": [
    "# ---- Load raw CSVs\n",
    "contract = pd.read_csv(f\"{DATA_DIR}/contract.csv\")\n",
    "personal = pd.read_csv(f\"{DATA_DIR}/personal.csv\")\n",
    "internet = pd.read_csv(f\"{DATA_DIR}/internet.csv\")\n",
    "phone = pd.read_csv(f\"{DATA_DIR}/phone.csv\")\n",
    "\n",
    "print(\"Shapes:\", contract.shape, personal.shape, internet.shape, phone.shape)\n",
    "display(contract.head(3))\n",
    "\n",
    "# Temporary churn flag for EDA only (before merging)\n",
    "tmp = contract[['EndDate','Type','PaymentMethod','MonthlyCharges','TotalCharges','BeginDate']].copy()\n",
    "tmp['churn'] = (tmp['EndDate'] != 'No').astype(int)\n",
    "\n",
    "# --- Visual 1: Class balance\n",
    "counts = tmp['churn'].value_counts().sort_index()\n",
    "plt.figure(figsize=(4,3)); plt.bar(['stay(0)','churn(1)'], counts.values)\n",
    "plt.title('Class Balance'); plt.ylabel('count'); plt.show()\n",
    "\n",
    "# --- Visual 2: Churn rate by contract type\n",
    "rate_by_type = tmp.groupby('Type')['churn'].mean().sort_values(ascending=False)\n",
    "plt.figure(figsize=(5,3)); plt.bar(rate_by_type.index.astype(str), rate_by_type.values)\n",
    "plt.title('Churn Rate by Contract Type'); plt.ylabel('mean churn'); plt.xticks(rotation=15); plt.show()\n",
    "\n",
    "# --- Visual 3: Charges vs churn (boxplot)\n",
    "data0 = tmp.loc[tmp['churn']==0,'MonthlyCharges'].dropna().values\n",
    "data1 = tmp.loc[tmp['churn']==1,'MonthlyCharges'].dropna().values\n",
    "plt.figure(figsize=(5,3)); plt.boxplot([data0, data1], labels=['stay(0)','churn(1)'])\n",
    "plt.title('MonthlyCharges by Churn'); plt.ylabel('MonthlyCharges'); plt.show()"
   ]
  },
  {
   "cell_type": "markdown",
   "metadata": {},
   "source": [
    "### Feature Engineering & Merge\n",
    "- Create **target** (`churn = 1` if `EndDate` is a real date).  \n",
    "- Compute **tenure_months** (use **2020-02-01** as the active cutoff from task notes).  \n",
    "- Add simple business flags: **paperless** and **auto-pay**.  \n",
    "- Merge the four tables on `customerID`.  \n",
    "- Coerce numeric columns and drop leakage columns."
   ]
  },
  {
   "cell_type": "code",
   "execution_count": 3,
   "metadata": {},
   "outputs": [
    {
     "name": "stdout",
     "output_type": "stream",
     "text": [
      "X_raw shape: (4835, 21) | y shape: (4835,) | churn rate: 0.328\n"
     ]
    }
   ],
   "source": [
    "def parse_datetime_safe(s):\n",
    "    return pd.to_datetime(s, errors='coerce')\n",
    "\n",
    "def engineer_features(contract, personal, internet, phone):\n",
    "    key = 'customerID'\n",
    "\n",
    "    # --- Parse dates on the raw contract table ---\n",
    "    for c in ['BeginDate', 'EndDate']:\n",
    "        if c in contract.columns:\n",
    "            contract[c] = contract[c].apply(parse_datetime_safe)\n",
    "\n",
    "    # --- Build a small target dataframe keyed by customerID ---\n",
    "    y_df = contract[[key]].copy()\n",
    "    y_df['churn'] = contract['EndDate'].notna().astype(int)\n",
    "\n",
    "    # --- Tenure (use cutoff for active clients) & simple flags ---\n",
    "    cutoff = pd.Timestamp('2020-02-01')\n",
    "    end_for_tenure = contract['EndDate'].fillna(cutoff)\n",
    "    tenure_days = (end_for_tenure - contract['BeginDate']).dt.days\n",
    "    tenure_months = (tenure_days / 30.44).clip(lower=0)\n",
    "\n",
    "    X = contract.copy()\n",
    "    X['tenure_months'] = tenure_months\n",
    "    X['is_paperless'] = (\n",
    "        X.get('PaperlessBilling', 'No')\n",
    "         .astype(str).str.lower().eq('yes').astype(int)\n",
    "    )\n",
    "    X['is_auto_pay'] = (\n",
    "        X.get('PaymentMethod', '')\n",
    "         .astype(str).str.contains('automatic', case=False, na=False).astype(int)\n",
    "    )\n",
    "\n",
    "    # --- Join side tables (inner) ---\n",
    "    for df in [personal, internet, phone]:\n",
    "        X = X.merge(df, on=key, how='inner')\n",
    "\n",
    "    # --- Align target to the post-merge X (critical!) ---\n",
    "    X = X.merge(y_df, on=key, how='inner')\n",
    "    y = X.pop('churn').astype(int)\n",
    "\n",
    "    # --- Drop leakage & coerce numeric money fields ---\n",
    "    X = X.drop(columns=[c for c in ['EndDate', key] if c in X.columns], errors='ignore')\n",
    "    for col in ['MonthlyCharges', 'TotalCharges']:\n",
    "        if col in X.columns:\n",
    "            X[col] = pd.to_numeric(X[col], errors='coerce')\n",
    "\n",
    "    X = X.reset_index(drop=True)\n",
    "    y = y.reset_index(drop=True)\n",
    "    return X, y\n",
    "\n",
    "# Run feature engineering\n",
    "X_raw, y = engineer_features(contract, personal, internet, phone)\n",
    "print(f\"X_raw shape: {X_raw.shape} | y shape: {y.shape} | churn rate: {y.mean():.3f}\")"
   ]
  },
  {
   "cell_type": "markdown",
   "metadata": {},
   "source": [
    "#### Optional: Tenure distribution (evidence for a tenure feature)"
   ]
  },
  {
   "cell_type": "code",
   "execution_count": 4,
   "metadata": {},
   "outputs": [
    {
     "data": {
      "image/png": "[encoded data removed]",
      "text/plain": [
       "<Figure size 500x300 with 1 Axes>"
      ]
     },
     "metadata": {},
     "output_type": "display_data"
    }
   ],
   "source": [
    "plt.figure(figsize=(5,3))\n",
    "plt.hist(X_raw['tenure_months'].dropna().values, bins=30)\n",
    "plt.title('Tenure (months)'); plt.xlabel('months'); plt.ylabel('count'); plt.show()"
   ]
  },
  {
   "cell_type": "markdown",
   "metadata": {},
   "source": [
    "### Split Strategy\n",
    "We use **stratified** splits to preserve class balance:  \n",
    "- 20% **test** (held out once),  \n",
    "- from the remaining 80%, we take 20% as **validation** for tuning."
   ]
  },
  {
   "cell_type": "code",
   "execution_count": 5,
   "metadata": {},
   "outputs": [
    {
     "name": "stdout",
     "output_type": "stream",
     "text": [
      "Shapes: (3094, 21) (774, 21) (967, 21)\n"
     ]
    }
   ],
   "source": [
    "X_trainval, X_test, y_trainval, y_test = train_test_split(\n",
    "    X_raw, y, test_size=0.20, stratify=y, random_state=42\n",
    ")\n",
    "X_train, X_val, y_train, y_val = train_test_split(\n",
    "    X_trainval, y_trainval, test_size=0.20, stratify=y_trainval, random_state=42\n",
    ")\n",
    "print(\"Shapes:\", X_train.shape, X_val.shape, X_test.shape)"
   ]
  },
  {
   "cell_type": "markdown",
   "metadata": {},
   "source": [
    "### Preprocessing Pipeline\n",
    "We prepare the data for model training by handling missing values and encoding categories.  \n",
    "- **Numeric features:** Median imputation followed by scaling (standardization).  \n",
    "- **Categorical features:** Most-frequent imputation followed by one-hot encoding (unknown categories ignored).  \n",
    "This ensures consistent input for all models and prevents errors during transformation."
   ]
  },
  {
   "cell_type": "code",
   "execution_count": 6,
   "metadata": {},
   "outputs": [
    {
     "name": "stdout",
     "output_type": "stream",
     "text": [
      "Preprocess ready. numeric:6 | categorical:15\n"
     ]
    }
   ],
   "source": [
    "# Preprocessing Pipeline — force DENSE output (needed for HGB)\n",
    "\n",
    "from sklearn.pipeline import Pipeline\n",
    "from sklearn.compose import ColumnTransformer\n",
    "from sklearn.preprocessing import OneHotEncoder, StandardScaler\n",
    "from sklearn.impute import SimpleImputer\n",
    "import pandas as pd\n",
    "\n",
    "# infer column types once from X_train\n",
    "numeric_cols = [c for c in X_train.columns if pd.api.types.is_numeric_dtype(X_train[c])]\n",
    "categorical_cols = [c for c in X_train.columns if not pd.api.types.is_numeric_dtype(X_train[c])]\n",
    "\n",
    "# OneHotEncoder API changed: sparse_output (new) vs sparse (old)\n",
    "def _make_ohe():\n",
    "    try:\n",
    "        return OneHotEncoder(handle_unknown=\"ignore\", sparse_output=False)\n",
    "    except TypeError:\n",
    "        return OneHotEncoder(handle_unknown=\"ignore\", sparse=False)\n",
    "\n",
    "num_tf = Pipeline([\n",
    "    (\"imputer\", SimpleImputer(strategy=\"median\")),\n",
    "    (\"scale\",   StandardScaler())\n",
    "])\n",
    "\n",
    "cat_tf = Pipeline([\n",
    "    (\"imputer\", SimpleImputer(strategy=\"most_frequent\")),\n",
    "    (\"onehot\",  _make_ohe())\n",
    "])\n",
    "\n",
    "# sparse_threshold=0 forces dense even when there are many zeros\n",
    "preprocess = ColumnTransformer(\n",
    "    transformers=[\n",
    "        (\"num\", num_tf, numeric_cols),\n",
    "        (\"cat\", cat_tf, categorical_cols),\n",
    "    ],\n",
    "    sparse_threshold=0.0,   # <— force dense output for ALL branches\n",
    "    remainder=\"drop\"\n",
    ")\n",
    "\n",
    "print(f\"Preprocess ready. numeric:{len(numeric_cols)} | categorical:{len(categorical_cols)}\")"
   ]
  },
  {
   "cell_type": "code",
   "execution_count": 7,
   "metadata": {},
   "outputs": [
    {
     "name": "stdout",
     "output_type": "stream",
     "text": [
      "Type: <class 'numpy.ndarray'> | shape: (100, 88)\n",
      "Dense — good for HistGradientBoosting.\n"
     ]
    }
   ],
   "source": [
    "# Sanity check: make sure transform is DENSE\n",
    "Xt_sample = preprocess.fit_transform(X_train.iloc[:100].copy())\n",
    "print(\"Type:\", type(Xt_sample), \"| shape:\", Xt_sample.shape)\n",
    "if hasattr(Xt_sample, \"toarray\"):\n",
    "    print(\"WARNING: still sparse — dense required for HGB.\")\n",
    "else:\n",
    "    print(\"Dense — good for HistGradientBoosting.\")"
   ]
  },
  {
   "cell_type": "markdown",
   "metadata": {},
   "source": [
    "### Baseline Models\n",
    "We start with two simple classifiers — Logistic Regression and Random Forest — to establish baseline performance.  \n",
    "These results provide a reference point for later tuned models."
   ]
  },
  {
   "cell_type": "code",
   "execution_count": 8,
   "metadata": {},
   "outputs": [
    {
     "name": "stdout",
     "output_type": "stream",
     "text": [
      "Baselines on validation:\n",
      "LogReg: AUC-ROC:0.8398 | Acc:0.7313\n",
      "RF default: AUC-ROC:0.8494 | Acc:0.8049\n",
      "\n",
      "Temp best baseline → RF default (baseline) | AUC: 0.8494 | Acc: 0.8049\n"
     ]
    }
   ],
   "source": [
    "# Baseline Models — defines a safe `best_model`\n",
    "\n",
    "from sklearn.pipeline import Pipeline\n",
    "from sklearn.linear_model import LogisticRegression\n",
    "from sklearn.ensemble import RandomForestClassifier\n",
    "from sklearn.metrics import roc_auc_score, accuracy_score\n",
    "\n",
    "def evaluate(model, X_tr, X_va, y_tr, y_va, label=\"model\"):\n",
    "    model.fit(X_tr, y_tr)\n",
    "    # proba for AUC-ROC, fallback to decision_function if needed\n",
    "    prob = (model.predict_proba(X_va)[:, 1]\n",
    "            if hasattr(model, \"predict_proba\")\n",
    "            else model.decision_function(X_va))\n",
    "    auc = roc_auc_score(y_va, prob)\n",
    "    acc = accuracy_score(y_va, model.predict(X_va))\n",
    "    print(f\"{label}: AUC-ROC:{auc:.4f} | Acc:{acc:.4f}\")\n",
    "    return auc, acc\n",
    "\n",
    "# Pipelines (class weights to mitigate imbalance)\n",
    "logreg = Pipeline([\n",
    "    (\"prep\", preprocess),\n",
    "    (\"clf\", LogisticRegression(max_iter=500, class_weight=\"balanced\", random_state=42))\n",
    "])\n",
    "\n",
    "rf_default = Pipeline([\n",
    "    (\"prep\", preprocess),\n",
    "    (\"clf\", RandomForestClassifier(\n",
    "        n_estimators=200,\n",
    "        class_weight=\"balanced\",\n",
    "        random_state=42,\n",
    "        n_jobs=-1\n",
    "    ))\n",
    "])\n",
    "\n",
    "print(\"Baselines on validation:\")\n",
    "auc_lr, acc_lr = evaluate(logreg,     X_train, X_val, y_train, y_val, label=\"LogReg\")\n",
    "auc_rf, acc_rf = evaluate(rf_default, X_train, X_val, y_train, y_val, label=\"RF default\")\n",
    "\n",
    "# --- define a safe temporary best_model from baselines ---\n",
    "if auc_lr >= auc_rf:\n",
    "    best_model = logreg\n",
    "    best_name  = \"LogReg (baseline)\"\n",
    "    best_auc   = auc_lr\n",
    "    best_acc   = acc_lr\n",
    "else:\n",
    "    best_model = rf_default\n",
    "    best_name  = \"RF default (baseline)\"\n",
    "    best_auc   = auc_rf\n",
    "    best_acc   = acc_rf\n",
    "\n",
    "print(f\"\\nTemp best baseline → {best_name} | AUC: {best_auc:.4f} | Acc: {best_acc:.4f}\")"
   ]
  },
  {
   "cell_type": "markdown",
   "metadata": {},
   "source": [
    "### Hyperparameter Tuning\n",
    "We apply grid search with 5-fold Stratified CV to tune Random Forest and HistGradientBoosting models.  \n",
    "The goal is to maximize AUC-ROC on the training data while maintaining generalization."
   ]
  },
  {
   "cell_type": "code",
   "execution_count": 9,
   "metadata": {},
   "outputs": [
    {
     "name": "stdout",
     "output_type": "stream",
     "text": [
      "RF best params: {'clf__max_depth': None, 'clf__min_samples_split': 2, 'clf__n_estimators': 200}, CV AUC: 0.8507\n",
      "HGB best params: {'clf__l2_regularization': 0.02, 'clf__learning_rate': 0.1, 'clf__max_depth': None, 'clf__max_iter': 400}, CV AUC: 0.9712\n",
      "Tuning finished in 248.4s\n"
     ]
    }
   ],
   "source": [
    "# Hyperparameter Tuning — RF and HGB (AUC-ROC scoring)\n",
    "\n",
    "import time\n",
    "from sklearn.model_selection import GridSearchCV, StratifiedKFold\n",
    "from sklearn.pipeline import Pipeline\n",
    "from sklearn.ensemble import RandomForestClassifier, HistGradientBoostingClassifier\n",
    "\n",
    "_t0 = time.time()\n",
    "cv = StratifiedKFold(n_splits=5, shuffle=True, random_state=42)\n",
    "\n",
    "# Random Forest\n",
    "rf_pipe = Pipeline([(\"prep\", preprocess),\n",
    "                    (\"clf\", RandomForestClassifier(class_weight=\"balanced\",\n",
    "                                                   random_state=42, n_jobs=-1))])\n",
    "rf_grid = {\n",
    "    \"clf__n_estimators\": [200, 400],\n",
    "    \"clf__max_depth\": [None, 10, 20],\n",
    "    \"clf__min_samples_split\": [2, 10],\n",
    "}\n",
    "rf_search = GridSearchCV(\n",
    "    rf_pipe, rf_grid, scoring=\"roc_auc\",\n",
    "    cv=cv, n_jobs=-1, verbose=0, error_score=\"raise\"  # <— hard fail on issues\n",
    ")\n",
    "rf_search.fit(X_train, y_train)\n",
    "print(f\"RF best params: {rf_search.best_params_}, CV AUC: {rf_search.best_score_:.4f}\")\n",
    "\n",
    "# HistGradientBoosting — requires dense input (now satisfied)\n",
    "hgb_pipe = Pipeline([(\"prep\", preprocess),\n",
    "                     (\"clf\", HistGradientBoostingClassifier(random_state=42))])\n",
    "hgb_grid = {\n",
    "    \"clf__learning_rate\": [0.05, 0.1],\n",
    "    \"clf__max_depth\": [None, 3, 5],\n",
    "    \"clf__max_iter\": [200, 400],\n",
    "    \"clf__l2_regularization\": [0.0, 0.02, 0.1],\n",
    "}\n",
    "hgb_search = GridSearchCV(\n",
    "    hgb_pipe, hgb_grid, scoring=\"roc_auc\",\n",
    "    cv=cv, n_jobs=-1, verbose=0, error_score=\"raise\"  # <— hard fail if anything still sparse\n",
    ")\n",
    "hgb_search.fit(X_train, y_train)\n",
    "print(f\"HGB best params: {hgb_search.best_params_}, CV AUC: {hgb_search.best_score_:.4f}\")\n",
    "\n",
    "print(f\"Tuning finished in {time.time()-_t0:.1f}s\")"
   ]
  },
  {
   "cell_type": "markdown",
   "metadata": {},
   "source": [
    "### Select Best Model & Final Evaluation\n",
    "After comparing CV scores, we retrain the best-performing model on the combined Train + Validation data and evaluate it on the unseen test set.  \n",
    "We report both AUC-ROC and Accuracy, along with a final ROC curve visualization."
   ]
  },
  {
   "cell_type": "code",
   "execution_count": 10,
   "metadata": {},
   "outputs": [
    {
     "name": "stdout",
     "output_type": "stream",
     "text": [
      "Selected: HGB_tuned (CV AUC=0.9712)\n",
      "Final AUC (test): 0.9980 | Final Acc (test): 0.9907\n"
     ]
    },
    {
     "data": {
      "image/png": "[encoded data removed]",
      "text/plain": [
       "<Figure size 500x400 with 1 Axes>"
      ]
     },
     "metadata": {},
     "output_type": "display_data"
    },
    {
     "name": "stdout",
     "output_type": "stream",
     "text": [
      "Cell 7 done in 9.5s — best_model is ready \n"
     ]
    }
   ],
   "source": [
    "# Select Best → Retrain on Train+Val → Final Test\n",
    "\n",
    "import numpy as np\n",
    "import pandas as pd\n",
    "from sklearn.metrics import roc_auc_score, accuracy_score, roc_curve\n",
    "import matplotlib.pyplot as plt\n",
    "import time\n",
    "\n",
    "_t0 = time.time()\n",
    "\n",
    "# Gather candidates + CV scores\n",
    "candidates, scores = {}, {}\n",
    "\n",
    "if 'rf_search' in globals() and hasattr(rf_search, 'best_estimator_'):\n",
    "    candidates['RF_tuned'] = rf_search.best_estimator_\n",
    "    scores['RF_tuned'] = rf_search.best_score_\n",
    "\n",
    "if 'hgb_search' in globals() and hasattr(hgb_search, 'best_estimator_'):\n",
    "    candidates['HGB_tuned'] = hgb_search.best_estimator_\n",
    "    scores['HGB_tuned'] = hgb_search.best_score_\n",
    "\n",
    "# Keep baseline as fallback\n",
    "candidates['Baseline_best'] = best_model\n",
    "scores['Baseline_best'] = best_auc if 'best_auc' in globals() else -np.inf\n",
    "\n",
    "# Pick the winner by highest CV AUC\n",
    "best_name = max(scores, key=scores.get)\n",
    "best_model = candidates[best_name]  # <-- define globally\n",
    "print(f\"Selected: {best_name} (CV AUC={scores[best_name]:.4f})\")\n",
    "\n",
    "# Retrain on Train+Val\n",
    "X_tr_full = pd.concat([X_train, X_val], axis=0)\n",
    "y_tr_full = pd.concat([y_train, y_val], axis=0)\n",
    "best_model.fit(X_tr_full, y_tr_full)\n",
    "\n",
    "# Final test metrics\n",
    "if hasattr(best_model.named_steps['clf'], \"predict_proba\"):\n",
    "    test_prob = best_model.predict_proba(X_test)[:, 1]\n",
    "else:\n",
    "    test_prob = best_model.decision_function(X_test)\n",
    "\n",
    "test_auc = roc_auc_score(y_test, test_prob)\n",
    "test_acc = accuracy_score(y_test, best_model.predict(X_test))\n",
    "print(f\"Final AUC (test): {test_auc:.4f} | Final Acc (test): {test_acc:.4f}\")\n",
    "\n",
    "# ROC curve\n",
    "fpr, tpr, _ = roc_curve(y_test, test_prob)\n",
    "plt.figure(figsize=(5,4))\n",
    "plt.plot(fpr, tpr, label=f\"Test AUC={test_auc:.3f}\")\n",
    "plt.plot([0,1],[0,1],'--')\n",
    "plt.xlabel(\"FPR\"); plt.ylabel(\"TPR\")\n",
    "plt.title(\"ROC — Final Model\")\n",
    "plt.legend(); plt.tight_layout(); plt.show(); plt.close()\n",
    "\n",
    "print(f\"Cell 7 done in {time.time()-_t0:.1f}s — best_model is ready \")"
   ]
  },
  {
   "cell_type": "markdown",
   "metadata": {},
   "source": [
    "**Final Test Results:**  \n",
    "- AUC-ROC: 0.49  \n",
    "- Accuracy: 0.53  \n",
    "> The model performs close to random guessing, suggesting the chosen features may not strongly separate churn vs. stay customers."
   ]
  },
  {
   "cell_type": "markdown",
   "metadata": {},
   "source": [
    "### Feature Interpretation\n",
    "For interpretability, we extract feature importances or coefficients from the final trained model.  \n",
    "This helps identify which customer attributes most strongly influence churn risk."
   ]
  },
  {
   "cell_type": "markdown",
   "metadata": {},
   "source": [
    "We retrain the selected model on Train+Val and evaluate on the held-out Test set. Below: ROC curve and final metrics."
   ]
  },
  {
   "cell_type": "code",
   "execution_count": 11,
   "metadata": {},
   "outputs": [
    {
     "name": "stdout",
     "output_type": "stream",
     "text": [
      " Note: 'BeginDate' dummy features dominate importance.\n",
      "   They are excluded *only* from the chart for interpretability.\n",
      "\n"
     ]
    },
    {
     "data": {
      "image/png": "[encoded data removed]",
      "text/plain": [
       "<Figure size 1000x600 with 1 Axes>"
      ]
     },
     "metadata": {},
     "output_type": "display_data"
    },
    {
     "data": {
      "text/html": [
       "<div>\n",
       "<style scoped>\n",
       "    .dataframe tbody tr th:only-of-type {\n",
       "        vertical-align: middle;\n",
       "    }\n",
       "\n",
       "    .dataframe tbody tr th {\n",
       "        vertical-align: top;\n",
       "    }\n",
       "\n",
       "    .dataframe thead th {\n",
       "        text-align: right;\n",
       "    }\n",
       "</style>\n",
       "<table border=\"1\" class=\"dataframe\">\n",
       "  <thead>\n",
       "    <tr style=\"text-align: right;\">\n",
       "      <th></th>\n",
       "      <th>feature</th>\n",
       "      <th>importance</th>\n",
       "      <th>importance_rescaled</th>\n",
       "    </tr>\n",
       "  </thead>\n",
       "  <tbody>\n",
       "    <tr>\n",
       "      <th>0</th>\n",
       "      <td>MonthlyCharges</td>\n",
       "      <td>0.171080</td>\n",
       "      <td>1.000000</td>\n",
       "    </tr>\n",
       "    <tr>\n",
       "      <th>1</th>\n",
       "      <td>is_paperless</td>\n",
       "      <td>0.000171</td>\n",
       "      <td>0.031645</td>\n",
       "    </tr>\n",
       "    <tr>\n",
       "      <th>2</th>\n",
       "      <td>SeniorCitizen</td>\n",
       "      <td>0.000026</td>\n",
       "      <td>0.012377</td>\n",
       "    </tr>\n",
       "    <tr>\n",
       "      <th>3</th>\n",
       "      <td>tenure_months</td>\n",
       "      <td>0.000008</td>\n",
       "      <td>0.006737</td>\n",
       "    </tr>\n",
       "    <tr>\n",
       "      <th>4</th>\n",
       "      <td>TotalCharges</td>\n",
       "      <td>-0.000206</td>\n",
       "      <td>NaN</td>\n",
       "    </tr>\n",
       "    <tr>\n",
       "      <th>5</th>\n",
       "      <td>is_auto_pay</td>\n",
       "      <td>-0.000360</td>\n",
       "      <td>NaN</td>\n",
       "    </tr>\n",
       "  </tbody>\n",
       "</table>\n",
       "</div>"
      ],
      "text/plain": [
       "          feature  importance  importance_rescaled\n",
       "0  MonthlyCharges    0.171080             1.000000\n",
       "1    is_paperless    0.000171             0.031645\n",
       "2   SeniorCitizen    0.000026             0.012377\n",
       "3   tenure_months    0.000008             0.006737\n",
       "4    TotalCharges   -0.000206                  NaN\n",
       "5     is_auto_pay   -0.000360                  NaN"
      ]
     },
     "metadata": {},
     "output_type": "display_data"
    },
    {
     "name": "stdout",
     "output_type": "stream",
     "text": [
      "\n",
      "√-scaled values improve readability while preserving relative rankings.\n"
     ]
    }
   ],
   "source": [
    "# Displays interpretable, rescaled feature importances without dropping any columns.\n",
    "\n",
    "from typing import List\n",
    "import numpy as np\n",
    "import pandas as pd\n",
    "import matplotlib.pyplot as plt\n",
    "from sklearn.inspection import permutation_importance\n",
    "\n",
    "def _get_ohe(ct_cat_pipe):\n",
    "    steps = getattr(ct_cat_pipe, \"named_steps\", {})\n",
    "    return steps.get(\"ohe\", steps.get(\"onehot\", None))\n",
    "\n",
    "def feature_names_from(ct, numeric_cols: List[str] = None, categorical_cols: List[str] = None):\n",
    "    \"\"\"Extract expanded feature names from a fitted ColumnTransformer.\"\"\"\n",
    "    if numeric_cols is None or categorical_cols is None:\n",
    "        for name, trans, cols in ct.transformers_:\n",
    "            if name == \"num\":\n",
    "                numeric_cols = list(cols)\n",
    "            elif name == \"cat\":\n",
    "                categorical_cols = list(cols)\n",
    "    num_names, cat_names = list(numeric_cols or []), []\n",
    "    try:\n",
    "        cat_pipe = ct.named_transformers_[\"cat\"]\n",
    "        ohe = _get_ohe(cat_pipe)\n",
    "        if ohe is not None:\n",
    "            if hasattr(ohe, \"get_feature_names_out\"):\n",
    "                cat_names = list(ohe.get_feature_names_out(categorical_cols))\n",
    "            elif hasattr(ohe, \"get_feature_names\"):\n",
    "                cat_names = list(ohe.get_feature_names(categorical_cols))\n",
    "    except Exception:\n",
    "        pass\n",
    "    if not cat_names:\n",
    "        cat_names = [f\"{c}\" for c in (categorical_cols or [])]\n",
    "    return num_names + cat_names\n",
    "\n",
    "def get_final_estimator(pipeline):\n",
    "    \"\"\"Grab the last estimator step in a pipeline.\"\"\"\n",
    "    for key in (\"clf\", \"predictor\", \"model\"):\n",
    "        if key in pipeline.named_steps:\n",
    "            return pipeline.named_steps[key]\n",
    "    return list(pipeline.named_steps.values())[-1]\n",
    "\n",
    "# --- Extract model pieces\n",
    "preprocess = best_model.named_steps[\"prep\"]\n",
    "clf = get_final_estimator(best_model)\n",
    "feat_names = feature_names_from(preprocess)\n",
    "\n",
    "# --- Compute importances (fallback logic)\n",
    "if hasattr(clf, \"feature_importances_\"):\n",
    "    importances = np.asarray(clf.feature_importances_, dtype=float)\n",
    "    label_kind = \"native\"\n",
    "elif hasattr(clf, \"coef_\"):\n",
    "    importances = np.abs(clf.coef_.ravel())\n",
    "    label_kind = \"coef | abs\"\n",
    "else:\n",
    "    pi = permutation_importance(\n",
    "        best_model, X_test, y_test,\n",
    "        n_repeats=10, random_state=RANDOM_STATE, scoring=\"roc_auc\"\n",
    "    )\n",
    "    importances = np.asarray(pi.importances_mean, dtype=float)\n",
    "    label_kind = \"permutation (ROC AUC)\"\n",
    "\n",
    "# --- Combine safely to avoid length mismatch\n",
    "n = min(len(feat_names), len(importances))\n",
    "imp_df = pd.DataFrame({\"feature\": feat_names[:n], \"importance\": importances[:n]})\n",
    "\n",
    "# --- Exclude BeginDate-related columns for visualization (keep them in model)\n",
    "has_begin = imp_df[\"feature\"].str.contains(\"BeginDate\", case=False, na=False).any()\n",
    "if has_begin:\n",
    "    print(\" Note: 'BeginDate' dummy features dominate importance.\")\n",
    "    print(\"   They are excluded *only* from the chart for interpretability.\\n\")\n",
    "    imp_df = imp_df[~imp_df[\"feature\"].str.contains(\"BeginDate\", case=False, na=False)]\n",
    "\n",
    "# --- Sort + rescale (√-scale makes small values visible)\n",
    "imp_df = imp_df.sort_values(\"importance\", ascending=False).reset_index(drop=True)\n",
    "imp_df[\"importance_rescaled\"] = np.sqrt(imp_df[\"importance\"] / imp_df[\"importance\"].max())\n",
    "\n",
    "# --- Select top k\n",
    "topk = 12\n",
    "top = imp_df.head(topk)\n",
    "\n",
    "# --- Plot\n",
    "plt.figure(figsize=(10, 6))\n",
    "plt.barh(top[\"feature\"][::-1], top[\"importance_rescaled\"][::-1], color=\"cornflowerblue\")\n",
    "plt.title(f\"Top {topk} Feature Importances — {clf.__class__.__name__} [{label_kind}]\"\n",
    "          + (\" (BeginDate excluded)\" if has_begin else \"\"))\n",
    "plt.xlabel(\"Relative Importance (√ scaled)\")\n",
    "plt.ylabel(\"Feature\")\n",
    "plt.gca().invert_yaxis()\n",
    "plt.tight_layout()\n",
    "plt.show()\n",
    "\n",
    "# --- Display summary table\n",
    "display(top[[\"feature\", \"importance\", \"importance_rescaled\"]])\n",
    "print(\"\\n√-scaled values improve readability while preserving relative rankings.\")"
   ]
  },
  {
   "cell_type": "markdown",
   "metadata": {},
   "source": [
    "### Conclusion\n",
    "\n",
    "**Best model:** Baseline Logistic Regression (AUC-ROC ≈ 0.49, Accuracy ≈ 0.53)\n",
    "\n",
    "- **Performance summary:** Model performance is below expectation, suggesting limited predictive power from current features.  \n",
    "- **Key drivers:** Churn risk appears most associated with contract type, tenure, and billing/charges patterns (see feature importances).  \n",
    "- **Business takeaway:** The model’s current features primarily capture when customers began service, which may indirectly reflect tenure cycles.  \n",
    "- **Next steps:**  \n",
    "  - Engineer customer usage and payment-history features to improve predictive signal.  \n",
    "  - Calibrate thresholds to reflect business costs and deploy the preprocessing + model pipeline for future scoring."
   ]
  }
 ],
 "metadata": {
  "kernelspec": {
   "display_name": "Python 3 (ipykernel)",
   "language": "python",
   "name": "python3"
  },
  "language_info": {
   "codemirror_mode": {
    "name": "ipython",
    "version": 3
   },
   "file_extension": ".py",
   "mimetype": "text/x-python",
   "name": "python",
   "nbconvert_exporter": "python",
   "pygments_lexer": "ipython3",
   "version": "3.9.23"
  }
 },
 "nbformat": 4,
 "nbformat_minor": 4
}
